{
 "cells": [
  {
   "cell_type": "markdown",
   "metadata": {},
   "source": [
    "# Normalización de nombres de pila con lógica difusa\n",
    "\n",
    "- Sobre [lógica difusa](https://es.wikipedia.org/wiki/Lógica_difusa)\n",
    "- Sobre [distancia Levenshtein](https://es.wikipedia.org/wiki/Distancia_de_Levenshtein)\n",
    "- Sobre la [Ley de Zipf](https://es.wikipedia.org/wiki/Ley_de_Zipf)\n",
    "- Listado de [nombres de pila](https://www.ine.es/dyngs/INEbase/es/operacion.htm?c=Estadistica_C&cid=1254736177009&menu=resultados&idp=1254734710990#!tabs-1254736195454)"
   ]
  },
  {
   "cell_type": "code",
   "execution_count": 15,
   "metadata": {},
   "outputs": [],
   "source": [
    "import re\n",
    "import time\n",
    "import pandas as pd\n",
    "from fuzzywuzzy import process"
   ]
  },
  {
   "cell_type": "markdown",
   "metadata": {},
   "source": [
    "## Obtención de datos"
   ]
  },
  {
   "cell_type": "code",
   "execution_count": 16,
   "metadata": {},
   "outputs": [
    {
     "data": {
      "text/html": [
       "<div>\n",
       "<style scoped>\n",
       "    .dataframe tbody tr th:only-of-type {\n",
       "        vertical-align: middle;\n",
       "    }\n",
       "\n",
       "    .dataframe tbody tr th {\n",
       "        vertical-align: top;\n",
       "    }\n",
       "\n",
       "    .dataframe thead th {\n",
       "        text-align: right;\n",
       "    }\n",
       "</style>\n",
       "<table border=\"1\" class=\"dataframe\">\n",
       "  <thead>\n",
       "    <tr style=\"text-align: right;\">\n",
       "      <th></th>\n",
       "      <th>Orden</th>\n",
       "      <th>Nombre</th>\n",
       "      <th>Frecuencia</th>\n",
       "      <th>Edad Media (*)</th>\n",
       "    </tr>\n",
       "  </thead>\n",
       "  <tbody>\n",
       "    <tr>\n",
       "      <td>0</td>\n",
       "      <td>1</td>\n",
       "      <td>MARIA CARMEN</td>\n",
       "      <td>656276</td>\n",
       "      <td>57,0</td>\n",
       "    </tr>\n",
       "    <tr>\n",
       "      <td>1</td>\n",
       "      <td>2</td>\n",
       "      <td>MARIA</td>\n",
       "      <td>606048</td>\n",
       "      <td>48,6</td>\n",
       "    </tr>\n",
       "    <tr>\n",
       "      <td>2</td>\n",
       "      <td>3</td>\n",
       "      <td>CARMEN</td>\n",
       "      <td>391563</td>\n",
       "      <td>60,4</td>\n",
       "    </tr>\n",
       "    <tr>\n",
       "      <td>3</td>\n",
       "      <td>4</td>\n",
       "      <td>JOSEFA</td>\n",
       "      <td>276682</td>\n",
       "      <td>68,0</td>\n",
       "    </tr>\n",
       "    <tr>\n",
       "      <td>4</td>\n",
       "      <td>5</td>\n",
       "      <td>ANA MARIA</td>\n",
       "      <td>273319</td>\n",
       "      <td>51,2</td>\n",
       "    </tr>\n",
       "  </tbody>\n",
       "</table>\n",
       "</div>"
      ],
      "text/plain": [
       "   Orden        Nombre  Frecuencia Edad Media (*)\n",
       "0      1  MARIA CARMEN      656276           57,0\n",
       "1      2         MARIA      606048           48,6\n",
       "2      3        CARMEN      391563           60,4\n",
       "3      4        JOSEFA      276682           68,0\n",
       "4      5     ANA MARIA      273319           51,2"
      ]
     },
     "execution_count": 16,
     "metadata": {},
     "output_type": "execute_result"
    }
   ],
   "source": [
    "WOMEN= pd.read_csv('./data/women.txt', delimiter='\\t')\n",
    "WOMEN.head(5)"
   ]
  },
  {
   "cell_type": "code",
   "execution_count": 17,
   "metadata": {},
   "outputs": [
    {
     "data": {
      "text/html": [
       "<div>\n",
       "<style scoped>\n",
       "    .dataframe tbody tr th:only-of-type {\n",
       "        vertical-align: middle;\n",
       "    }\n",
       "\n",
       "    .dataframe tbody tr th {\n",
       "        vertical-align: top;\n",
       "    }\n",
       "\n",
       "    .dataframe thead th {\n",
       "        text-align: right;\n",
       "    }\n",
       "</style>\n",
       "<table border=\"1\" class=\"dataframe\">\n",
       "  <thead>\n",
       "    <tr style=\"text-align: right;\">\n",
       "      <th></th>\n",
       "      <th>Orden</th>\n",
       "      <th>Nombre</th>\n",
       "      <th>Frecuencia</th>\n",
       "      <th>Edad Media (*)</th>\n",
       "    </tr>\n",
       "  </thead>\n",
       "  <tbody>\n",
       "    <tr>\n",
       "      <td>0</td>\n",
       "      <td>1</td>\n",
       "      <td>ANTONIO</td>\n",
       "      <td>678425</td>\n",
       "      <td>55,9</td>\n",
       "    </tr>\n",
       "    <tr>\n",
       "      <td>1</td>\n",
       "      <td>2</td>\n",
       "      <td>JOSE</td>\n",
       "      <td>594144</td>\n",
       "      <td>61,1</td>\n",
       "    </tr>\n",
       "    <tr>\n",
       "      <td>2</td>\n",
       "      <td>3</td>\n",
       "      <td>MANUEL</td>\n",
       "      <td>590965</td>\n",
       "      <td>54,9</td>\n",
       "    </tr>\n",
       "    <tr>\n",
       "      <td>3</td>\n",
       "      <td>4</td>\n",
       "      <td>FRANCISCO</td>\n",
       "      <td>498934</td>\n",
       "      <td>57,4</td>\n",
       "    </tr>\n",
       "    <tr>\n",
       "      <td>4</td>\n",
       "      <td>5</td>\n",
       "      <td>DAVID</td>\n",
       "      <td>365196</td>\n",
       "      <td>30,5</td>\n",
       "    </tr>\n",
       "    <tr>\n",
       "      <td>5</td>\n",
       "      <td>6</td>\n",
       "      <td>JUAN</td>\n",
       "      <td>346867</td>\n",
       "      <td>55,7</td>\n",
       "    </tr>\n",
       "    <tr>\n",
       "      <td>6</td>\n",
       "      <td>7</td>\n",
       "      <td>JOSE ANTONIO</td>\n",
       "      <td>310134</td>\n",
       "      <td>49,6</td>\n",
       "    </tr>\n",
       "    <tr>\n",
       "      <td>7</td>\n",
       "      <td>8</td>\n",
       "      <td>JAVIER</td>\n",
       "      <td>306504</td>\n",
       "      <td>33,0</td>\n",
       "    </tr>\n",
       "    <tr>\n",
       "      <td>8</td>\n",
       "      <td>9</td>\n",
       "      <td>DANIEL</td>\n",
       "      <td>296281</td>\n",
       "      <td>27,0</td>\n",
       "    </tr>\n",
       "    <tr>\n",
       "      <td>9</td>\n",
       "      <td>10</td>\n",
       "      <td>JOSE LUIS</td>\n",
       "      <td>293564</td>\n",
       "      <td>53,3</td>\n",
       "    </tr>\n",
       "  </tbody>\n",
       "</table>\n",
       "</div>"
      ],
      "text/plain": [
       "   Orden        Nombre  Frecuencia Edad Media (*)\n",
       "0      1       ANTONIO      678425           55,9\n",
       "1      2          JOSE      594144           61,1\n",
       "2      3        MANUEL      590965           54,9\n",
       "3      4     FRANCISCO      498934           57,4\n",
       "4      5         DAVID      365196           30,5\n",
       "5      6          JUAN      346867           55,7\n",
       "6      7  JOSE ANTONIO      310134           49,6\n",
       "7      8        JAVIER      306504           33,0\n",
       "8      9        DANIEL      296281           27,0\n",
       "9     10     JOSE LUIS      293564           53,3"
      ]
     },
     "execution_count": 17,
     "metadata": {},
     "output_type": "execute_result"
    }
   ],
   "source": [
    "MEN= pd.read_csv('./data/men.txt', delimiter='\\t')\n",
    "MEN.head(10)"
   ]
  },
  {
   "cell_type": "markdown",
   "metadata": {},
   "source": [
    "## Normalización"
   ]
  },
  {
   "cell_type": "code",
   "execution_count": 18,
   "metadata": {},
   "outputs": [
    {
     "data": {
      "text/plain": [
       "[('MIRIAM JOSEFINA', 90), ('MIRIAM JOSE', 90), ('MARIA JOSE', 86)]"
      ]
     },
     "execution_count": 18,
     "metadata": {},
     "output_type": "execute_result"
    }
   ],
   "source": [
    "name = 'Mª JOSE'\n",
    "suggestions = process.extract(name, WOMEN.Nombre.array, limit=3)\n",
    "suggestions"
   ]
  },
  {
   "cell_type": "markdown",
   "metadata": {},
   "source": [
    "## Heurística"
   ]
  },
  {
   "cell_type": "code",
   "execution_count": 19,
   "metadata": {},
   "outputs": [
    {
     "data": {
      "text/plain": [
       "['MIRIAM JOSEFINA', 'MIRIAM JOSE', 'MARIA JOSE']"
      ]
     },
     "execution_count": 19,
     "metadata": {},
     "output_type": "execute_result"
    }
   ],
   "source": [
    "suggestion_names = [suggestion[0] for suggestion in suggestions]\n",
    "suggestion_names"
   ]
  },
  {
   "cell_type": "code",
   "execution_count": 20,
   "metadata": {},
   "outputs": [
    {
     "data": {
      "text/html": [
       "<div>\n",
       "<style scoped>\n",
       "    .dataframe tbody tr th:only-of-type {\n",
       "        vertical-align: middle;\n",
       "    }\n",
       "\n",
       "    .dataframe tbody tr th {\n",
       "        vertical-align: top;\n",
       "    }\n",
       "\n",
       "    .dataframe thead th {\n",
       "        text-align: right;\n",
       "    }\n",
       "</style>\n",
       "<table border=\"1\" class=\"dataframe\">\n",
       "  <thead>\n",
       "    <tr style=\"text-align: right;\">\n",
       "      <th></th>\n",
       "      <th>Orden</th>\n",
       "      <th>Nombre</th>\n",
       "      <th>Frecuencia</th>\n",
       "      <th>Edad Media (*)</th>\n",
       "    </tr>\n",
       "  </thead>\n",
       "  <tbody>\n",
       "    <tr>\n",
       "      <td>17</td>\n",
       "      <td>18</td>\n",
       "      <td>MARIA JOSE</td>\n",
       "      <td>203283</td>\n",
       "      <td>46,1</td>\n",
       "    </tr>\n",
       "    <tr>\n",
       "      <td>13205</td>\n",
       "      <td>13206</td>\n",
       "      <td>MIRIAM JOSEFINA</td>\n",
       "      <td>42</td>\n",
       "      <td>54,0</td>\n",
       "    </tr>\n",
       "    <tr>\n",
       "      <td>16750</td>\n",
       "      <td>16751</td>\n",
       "      <td>MIRIAM JOSE</td>\n",
       "      <td>32</td>\n",
       "      <td>41,7</td>\n",
       "    </tr>\n",
       "  </tbody>\n",
       "</table>\n",
       "</div>"
      ],
      "text/plain": [
       "       Orden           Nombre  Frecuencia Edad Media (*)\n",
       "17        18       MARIA JOSE      203283           46,1\n",
       "13205  13206  MIRIAM JOSEFINA          42           54,0\n",
       "16750  16751      MIRIAM JOSE          32           41,7"
      ]
     },
     "execution_count": 20,
     "metadata": {},
     "output_type": "execute_result"
    }
   ],
   "source": [
    "suggestion_rows = WOMEN[WOMEN.Nombre.isin(suggestion_names)]\n",
    "suggestion_rows"
   ]
  },
  {
   "cell_type": "code",
   "execution_count": 22,
   "metadata": {},
   "outputs": [
    {
     "data": {
      "text/plain": [
       "<PandasArray>\n",
       "['MARIA JOSE', 'MIRIAM JOSEFINA', 'MIRIAM JOSE']\n",
       "Length: 3, dtype: object"
      ]
     },
     "execution_count": 22,
     "metadata": {},
     "output_type": "execute_result"
    }
   ],
   "source": [
    "suggestion_names = [suggestion[0] for suggestion in suggestions]\n",
    "suggestion_rows = WOMEN[WOMEN.Nombre.isin(suggestion_names)]\n",
    "suggestion_rows.Nombre.array[0]"
   ]
  },
  {
   "cell_type": "code",
   "execution_count": 24,
   "metadata": {},
   "outputs": [],
   "source": [
    "def normalize(name, candidates_df, limit=3):\n",
    "    candidates = candidates_df.Nombre.array\n",
    "    suggestions = process.extract(name, candidates, limit=limit)\n",
    "    suggestion_names = [suggestion[0] for suggestion in suggestions]\n",
    "    suggestion_rows = candidates_df[candidates_df.Nombre.isin(suggestion_names)]\n",
    "    best_suggestion = suggestion_rows.Nombre.array[0]\n",
    "    return best_suggestion"
   ]
  },
  {
   "cell_type": "code",
   "execution_count": 27,
   "metadata": {},
   "outputs": [
    {
     "data": {
      "text/plain": [
       "'MARIA JOSE'"
      ]
     },
     "execution_count": 27,
     "metadata": {},
     "output_type": "execute_result"
    }
   ],
   "source": [
    "name = 'Mª JOSE'\n",
    "normalize(name, WOMEN, limit=3)"
   ]
  },
  {
   "cell_type": "markdown",
   "metadata": {},
   "source": [
    "## Optimización"
   ]
  },
  {
   "cell_type": "code",
   "execution_count": 25,
   "metadata": {},
   "outputs": [
    {
     "data": {
      "text/plain": [
       "(25658, 4)"
      ]
     },
     "execution_count": 25,
     "metadata": {},
     "output_type": "execute_result"
    }
   ],
   "source": [
    "WOMEN.shape"
   ]
  },
  {
   "cell_type": "code",
   "execution_count": 26,
   "metadata": {},
   "outputs": [
    {
     "data": {
      "text/plain": [
       "0.9954941272735596"
      ]
     },
     "execution_count": 26,
     "metadata": {},
     "output_type": "execute_result"
    }
   ],
   "source": [
    "name = 'JOSE ANTONO'\n",
    "start = time.time()\n",
    "suggestions = process.extract(name, MEN.Nombre.array, limit=3)\n",
    "end = time.time()\n",
    "end - start"
   ]
  },
  {
   "cell_type": "code",
   "execution_count": 27,
   "metadata": {},
   "outputs": [],
   "source": [
    "WOMEN = WOMEN[WOMEN.Frecuencia > 99]\n",
    "MEN = MEN[MEN.Frecuencia > 99]"
   ]
  },
  {
   "cell_type": "code",
   "execution_count": 28,
   "metadata": {},
   "outputs": [
    {
     "data": {
      "text/plain": [
       "0.2753720283508301"
      ]
     },
     "execution_count": 28,
     "metadata": {},
     "output_type": "execute_result"
    }
   ],
   "source": [
    "name = 'JOSE ANTONO'\n",
    "start = time.time()\n",
    "suggestions = process.extract(name, MEN.Nombre.array, limit=3)\n",
    "end = time.time()\n",
    "end - start"
   ]
  },
  {
   "cell_type": "code",
   "execution_count": 29,
   "metadata": {},
   "outputs": [
    {
     "data": {
      "text/plain": [
       "(6795, 4)"
      ]
     },
     "execution_count": 29,
     "metadata": {},
     "output_type": "execute_result"
    }
   ],
   "source": [
    "MEN.shape"
   ]
  },
  {
   "cell_type": "code",
   "execution_count": 30,
   "metadata": {},
   "outputs": [
    {
     "data": {
      "text/html": [
       "<div>\n",
       "<style scoped>\n",
       "    .dataframe tbody tr th:only-of-type {\n",
       "        vertical-align: middle;\n",
       "    }\n",
       "\n",
       "    .dataframe tbody tr th {\n",
       "        vertical-align: top;\n",
       "    }\n",
       "\n",
       "    .dataframe thead th {\n",
       "        text-align: right;\n",
       "    }\n",
       "</style>\n",
       "<table border=\"1\" class=\"dataframe\">\n",
       "  <thead>\n",
       "    <tr style=\"text-align: right;\">\n",
       "      <th></th>\n",
       "      <th>Orden</th>\n",
       "      <th>Nombre</th>\n",
       "      <th>Frecuencia</th>\n",
       "      <th>Edad Media (*)</th>\n",
       "    </tr>\n",
       "  </thead>\n",
       "  <tbody>\n",
       "    <tr>\n",
       "      <td>6785</td>\n",
       "      <td>6786</td>\n",
       "      <td>SADDIK</td>\n",
       "      <td>100</td>\n",
       "      <td>43,7</td>\n",
       "    </tr>\n",
       "    <tr>\n",
       "      <td>6786</td>\n",
       "      <td>6787</td>\n",
       "      <td>SANTIAGO AGUSTIN</td>\n",
       "      <td>100</td>\n",
       "      <td>35,1</td>\n",
       "    </tr>\n",
       "    <tr>\n",
       "      <td>6787</td>\n",
       "      <td>6788</td>\n",
       "      <td>SANTIAGO JOAQUIN</td>\n",
       "      <td>100</td>\n",
       "      <td>43,1</td>\n",
       "    </tr>\n",
       "    <tr>\n",
       "      <td>6788</td>\n",
       "      <td>6789</td>\n",
       "      <td>SIDI AHMED</td>\n",
       "      <td>100</td>\n",
       "      <td>42,9</td>\n",
       "    </tr>\n",
       "    <tr>\n",
       "      <td>6789</td>\n",
       "      <td>6790</td>\n",
       "      <td>SOHAYB</td>\n",
       "      <td>100</td>\n",
       "      <td>7,6</td>\n",
       "    </tr>\n",
       "    <tr>\n",
       "      <td>6790</td>\n",
       "      <td>6791</td>\n",
       "      <td>TALAL</td>\n",
       "      <td>100</td>\n",
       "      <td>30,7</td>\n",
       "    </tr>\n",
       "    <tr>\n",
       "      <td>6791</td>\n",
       "      <td>6792</td>\n",
       "      <td>VICENT JOSEP</td>\n",
       "      <td>100</td>\n",
       "      <td>45,3</td>\n",
       "    </tr>\n",
       "    <tr>\n",
       "      <td>6792</td>\n",
       "      <td>6793</td>\n",
       "      <td>WILLIAM ALBERTO</td>\n",
       "      <td>100</td>\n",
       "      <td>39,8</td>\n",
       "    </tr>\n",
       "    <tr>\n",
       "      <td>6793</td>\n",
       "      <td>6794</td>\n",
       "      <td>YADEL</td>\n",
       "      <td>100</td>\n",
       "      <td>4,6</td>\n",
       "    </tr>\n",
       "    <tr>\n",
       "      <td>6794</td>\n",
       "      <td>6795</td>\n",
       "      <td>ZHIWEI</td>\n",
       "      <td>100</td>\n",
       "      <td>29,0</td>\n",
       "    </tr>\n",
       "  </tbody>\n",
       "</table>\n",
       "</div>"
      ],
      "text/plain": [
       "      Orden            Nombre  Frecuencia Edad Media (*)\n",
       "6785   6786            SADDIK         100           43,7\n",
       "6786   6787  SANTIAGO AGUSTIN         100           35,1\n",
       "6787   6788  SANTIAGO JOAQUIN         100           43,1\n",
       "6788   6789        SIDI AHMED         100           42,9\n",
       "6789   6790            SOHAYB         100            7,6\n",
       "6790   6791             TALAL         100           30,7\n",
       "6791   6792      VICENT JOSEP         100           45,3\n",
       "6792   6793   WILLIAM ALBERTO         100           39,8\n",
       "6793   6794             YADEL         100            4,6\n",
       "6794   6795            ZHIWEI         100           29,0"
      ]
     },
     "execution_count": 30,
     "metadata": {},
     "output_type": "execute_result"
    }
   ],
   "source": [
    "MEN.tail(10)"
   ]
  },
  {
   "cell_type": "markdown",
   "metadata": {},
   "source": [
    "## Adaptación del input"
   ]
  },
  {
   "cell_type": "code",
   "execution_count": 31,
   "metadata": {},
   "outputs": [
    {
     "name": "stdout",
     "output_type": "stream",
     "text": [
      "[('MARA', 100), ('TAMARA', 90), ('SAMARA', 90)]\n"
     ]
    }
   ],
   "source": [
    "name = 'María'\n",
    "suggestions = process.extract(name, WOMEN.Nombre.array, limit=3)\n",
    "print(suggestions)"
   ]
  },
  {
   "cell_type": "code",
   "execution_count": 32,
   "metadata": {},
   "outputs": [
    {
     "data": {
      "text/html": [
       "<div>\n",
       "<style scoped>\n",
       "    .dataframe tbody tr th:only-of-type {\n",
       "        vertical-align: middle;\n",
       "    }\n",
       "\n",
       "    .dataframe tbody tr th {\n",
       "        vertical-align: top;\n",
       "    }\n",
       "\n",
       "    .dataframe thead th {\n",
       "        text-align: right;\n",
       "    }\n",
       "</style>\n",
       "<table border=\"1\" class=\"dataframe\">\n",
       "  <thead>\n",
       "    <tr style=\"text-align: right;\">\n",
       "      <th></th>\n",
       "      <th>Orden</th>\n",
       "      <th>Nombre</th>\n",
       "      <th>Frecuencia</th>\n",
       "      <th>Edad Media (*)</th>\n",
       "    </tr>\n",
       "  </thead>\n",
       "  <tbody>\n",
       "    <tr>\n",
       "      <td>0</td>\n",
       "      <td>1</td>\n",
       "      <td>MARIA CARMEN</td>\n",
       "      <td>656276</td>\n",
       "      <td>57,0</td>\n",
       "    </tr>\n",
       "    <tr>\n",
       "      <td>1</td>\n",
       "      <td>2</td>\n",
       "      <td>MARIA</td>\n",
       "      <td>606048</td>\n",
       "      <td>48,6</td>\n",
       "    </tr>\n",
       "    <tr>\n",
       "      <td>4</td>\n",
       "      <td>5</td>\n",
       "      <td>ANA MARIA</td>\n",
       "      <td>273319</td>\n",
       "      <td>51,2</td>\n",
       "    </tr>\n",
       "    <tr>\n",
       "      <td>6</td>\n",
       "      <td>7</td>\n",
       "      <td>MARIA PILAR</td>\n",
       "      <td>263141</td>\n",
       "      <td>57,0</td>\n",
       "    </tr>\n",
       "    <tr>\n",
       "      <td>7</td>\n",
       "      <td>8</td>\n",
       "      <td>MARIA DOLORES</td>\n",
       "      <td>259216</td>\n",
       "      <td>56,6</td>\n",
       "    </tr>\n",
       "    <tr>\n",
       "      <td>9</td>\n",
       "      <td>10</td>\n",
       "      <td>MARIA TERESA</td>\n",
       "      <td>251492</td>\n",
       "      <td>57,1</td>\n",
       "    </tr>\n",
       "    <tr>\n",
       "      <td>12</td>\n",
       "      <td>13</td>\n",
       "      <td>MARIA ANGELES</td>\n",
       "      <td>226047</td>\n",
       "      <td>55,4</td>\n",
       "    </tr>\n",
       "    <tr>\n",
       "      <td>16</td>\n",
       "      <td>17</td>\n",
       "      <td>MARIA ISABEL</td>\n",
       "      <td>204354</td>\n",
       "      <td>52,8</td>\n",
       "    </tr>\n",
       "    <tr>\n",
       "      <td>17</td>\n",
       "      <td>18</td>\n",
       "      <td>MARIA JOSE</td>\n",
       "      <td>203283</td>\n",
       "      <td>46,1</td>\n",
       "    </tr>\n",
       "    <tr>\n",
       "      <td>23</td>\n",
       "      <td>24</td>\n",
       "      <td>MARIA LUISA</td>\n",
       "      <td>160565</td>\n",
       "      <td>60,9</td>\n",
       "    </tr>\n",
       "  </tbody>\n",
       "</table>\n",
       "</div>"
      ],
      "text/plain": [
       "    Orden         Nombre  Frecuencia Edad Media (*)\n",
       "0       1   MARIA CARMEN      656276           57,0\n",
       "1       2          MARIA      606048           48,6\n",
       "4       5      ANA MARIA      273319           51,2\n",
       "6       7    MARIA PILAR      263141           57,0\n",
       "7       8  MARIA DOLORES      259216           56,6\n",
       "9      10   MARIA TERESA      251492           57,1\n",
       "12     13  MARIA ANGELES      226047           55,4\n",
       "16     17   MARIA ISABEL      204354           52,8\n",
       "17     18     MARIA JOSE      203283           46,1\n",
       "23     24    MARIA LUISA      160565           60,9"
      ]
     },
     "execution_count": 32,
     "metadata": {},
     "output_type": "execute_result"
    }
   ],
   "source": [
    "WOMEN[WOMEN.Nombre.str.contains('MARIA', na=False)].head(10)"
   ]
  },
  {
   "cell_type": "code",
   "execution_count": 36,
   "metadata": {},
   "outputs": [],
   "source": [
    "def adapt(name):\n",
    "    name = name.lower()\n",
    "    name = name.translate(str.maketrans({'á': 'a', 'é': 'e', 'í': 'i', 'ó': 'o', 'ú': 'u', 'ñ': 'n'}))\n",
    "    name = re.sub('\\s+del?(\\s+l[oa]s?)?\\s+', ' ', name)\n",
    "    return name"
   ]
  },
  {
   "cell_type": "code",
   "execution_count": 37,
   "metadata": {},
   "outputs": [
    {
     "data": {
      "text/plain": [
       "'maria'"
      ]
     },
     "execution_count": 37,
     "metadata": {},
     "output_type": "execute_result"
    }
   ],
   "source": [
    "adapt('María')"
   ]
  },
  {
   "cell_type": "code",
   "execution_count": 2,
   "metadata": {},
   "outputs": [],
   "source": [
    "def normalize(name, candidates_df, limit=3):\n",
    "\n",
    "    def adapt(name):\n",
    "        name = name.lower()\n",
    "        name = name.translate(str.maketrans({'á': 'a', 'é': 'e', 'í': 'i', 'ó': 'o', 'ú': 'u', 'ñ': 'n'}))\n",
    "        name = re.sub('\\s+del?(\\s+l[oa]s?)?\\s+', ' ', name)\n",
    "        return name\n",
    "\n",
    "    suggestions = process.extract(adapt(name), candidates_df.Nombre.array, limit=3)\n",
    "    if suggestions[0][1] == 100:\n",
    "        return suggestions[0][0]\n",
    "    suggestion_names = [suggestion[0] for suggestion in suggestions]\n",
    "    suggestion_rows = candidates_df[candidates_df.Nombre.isin(suggestion_names)]\n",
    "    best_suggestion = suggestion_rows.Nombre.array[0]\n",
    "\n",
    "    return best_suggestion\n"
   ]
  },
  {
   "cell_type": "code",
   "execution_count": null,
   "metadata": {},
   "outputs": [],
   "source": []
  }
 ],
 "metadata": {
  "kernelspec": {
   "display_name": "Python 3",
   "language": "python",
   "name": "python3"
  },
  "language_info": {
   "codemirror_mode": {
    "name": "ipython",
    "version": 3
   },
   "file_extension": ".py",
   "mimetype": "text/x-python",
   "name": "python",
   "nbconvert_exporter": "python",
   "pygments_lexer": "ipython3",
   "version": "3.6.7"
  }
 },
 "nbformat": 4,
 "nbformat_minor": 4
}
